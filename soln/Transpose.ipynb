{
 "cells": [
  {
   "cell_type": "code",
   "execution_count": 1,
   "metadata": {},
   "outputs": [
    {
     "name": "stdout",
     "output_type": "stream",
     "text": [
      "[[687, 68, 34], [89, 77, 82], [556, 99, 92]]\n",
      "\n",
      "\n",
      "[[687  89 556]\n",
      " [ 68  77  99]\n",
      " [ 34  82  92]]\n"
     ]
    }
   ],
   "source": [
    "import numpy  \n",
    "matrix=[[687,68,34],[89,77,82],[556,99,92]]\n",
    "print(matrix) \n",
    "print(\"\\n\") \n",
    "print(numpy.transpose(matrix)) "
   ]
  },
  {
   "cell_type": "code",
   "execution_count": null,
   "metadata": {},
   "outputs": [],
   "source": []
  }
 ],
 "metadata": {
  "kernelspec": {
   "display_name": "Python 3",
   "language": "python",
   "name": "python3"
  },
  "language_info": {
   "codemirror_mode": {
    "name": "ipython",
    "version": 3
   },
   "file_extension": ".py",
   "mimetype": "text/x-python",
   "name": "python",
   "nbconvert_exporter": "python",
   "pygments_lexer": "ipython3",
   "version": "3.7.4"
  }
 },
 "nbformat": 4,
 "nbformat_minor": 2
}
