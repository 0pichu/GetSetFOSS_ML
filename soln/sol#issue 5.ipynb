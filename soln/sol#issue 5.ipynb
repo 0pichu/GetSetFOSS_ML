{
 "cells": [
  {
   "cell_type": "code",
   "execution_count": 3,
   "metadata": {},
   "outputs": [
    {
     "name": "stdout",
     "output_type": "stream",
     "text": [
      "Enter the number of rows:3\n",
      "Enter the number of columns:3\n",
      "Enter the entries in a single line (separated by space): \n",
      "1 34 56 109 111 90 98 105 100\n",
      "[109 111  90  98 105 100]\n"
     ]
    }
   ],
   "source": [
    "import numpy as np\n",
    "R = int(input(\"Enter the number of rows:\")) \n",
    "C = int(input(\"Enter the number of columns:\")) \n",
    "print(\"Enter the entries in a single line (separated by space): \") \n",
    "entries = list(map(int, input().split()))\n",
    "x = np.array(entries).reshape(R, C) \n",
    "print (x [x>89])\n"
   ]
  },
  {
   "cell_type": "code",
   "execution_count": null,
   "metadata": {},
   "outputs": [],
   "source": []
  }
 ],
 "metadata": {
  "kernelspec": {
   "display_name": "Python 3",
   "language": "python",
   "name": "python3"
  },
  "language_info": {
   "codemirror_mode": {
    "name": "ipython",
    "version": 3
   },
   "file_extension": ".py",
   "mimetype": "text/x-python",
   "name": "python",
   "nbconvert_exporter": "python",
   "pygments_lexer": "ipython3",
   "version": "3.7.4"
  }
 },
 "nbformat": 4,
 "nbformat_minor": 2
}
